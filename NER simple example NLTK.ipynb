{
 "cells": [
  {
   "cell_type": "markdown",
   "metadata": {},
   "source": [
    "## Non-stanford version of ents_from_trees\n",
    "\n",
    "Need to:\n",
    "- 1) tokenise sentence\n",
    "- 2) apply BIO or IO tags\n",
    "- 3) create tree\n",
    "- 4) get ents from the tree\n",
    "\n",
    "N.b. Use nltk.ne_recognize(). It doesn't use the Stanford recognizer but it does chunk entities. (It's a wrapper around an IOB named entity tagger)."
   ]
  },
  {
   "cell_type": "code",
   "execution_count": 1,
   "metadata": {
    "collapsed": true
   },
   "outputs": [],
   "source": [
    "import nltk"
   ]
  },
  {
   "cell_type": "code",
   "execution_count": 88,
   "metadata": {},
   "outputs": [
    {
     "name": "stdout",
     "output_type": "stream",
     "text": [
      "NLTK Downloader\n",
      "---------------------------------------------------------------------------\n",
      "    d) Download   l) List    u) Update   c) Config   h) Help   q) Quit\n",
      "---------------------------------------------------------------------------\n",
      "Downloader> d\n",
      "\n",
      "Download which package (l=list; x=cancel)?\n",
      "  Identifier> words\n",
      "    Downloading package words to /home/chronos/user/nltk_data...\n",
      "      Unzipping corpora/words.zip.\n",
      "\n",
      "---------------------------------------------------------------------------\n",
      "    d) Download   l) List    u) Update   c) Config   h) Help   q) Quit\n",
      "---------------------------------------------------------------------------\n",
      "Downloader> q\n"
     ]
    },
    {
     "data": {
      "text/plain": [
       "True"
      ]
     },
     "execution_count": 88,
     "metadata": {},
     "output_type": "execute_result"
    }
   ],
   "source": [
    "nltk.download()"
   ]
  },
  {
   "cell_type": "code",
   "execution_count": 4,
   "metadata": {},
   "outputs": [
    {
     "data": {
      "text/plain": [
       "'Mr David Gauke is the Member of Parliament for South West Hertfordshire. David Gauke is a member of the Conservative Party.'"
      ]
     },
     "execution_count": 4,
     "metadata": {},
     "output_type": "execute_result"
    }
   ],
   "source": [
    "sample = \"Mr David Gauke is the Member of Parliament for South West Hertfordshire. David Gauke is a member of the Conservative Party.\"\n",
    "sample"
   ]
  },
  {
   "cell_type": "code",
   "execution_count": 8,
   "metadata": {},
   "outputs": [
    {
     "data": {
      "text/plain": [
       "['Mr David Gauke is the Member of Parliament for South West Hertfordshire.',\n",
       " 'David Gauke is a member of the Conservative Party.']"
      ]
     },
     "execution_count": 8,
     "metadata": {},
     "output_type": "execute_result"
    }
   ],
   "source": [
    "sentences = nltk.sent_tokenize(sample)\n",
    "sentences"
   ]
  },
  {
   "cell_type": "code",
   "execution_count": 9,
   "metadata": {},
   "outputs": [
    {
     "data": {
      "text/plain": [
       "[['Mr',\n",
       "  'David',\n",
       "  'Gauke',\n",
       "  'is',\n",
       "  'the',\n",
       "  'Member',\n",
       "  'of',\n",
       "  'Parliament',\n",
       "  'for',\n",
       "  'South',\n",
       "  'West',\n",
       "  'Hertfordshire',\n",
       "  '.'],\n",
       " ['David',\n",
       "  'Gauke',\n",
       "  'is',\n",
       "  'a',\n",
       "  'member',\n",
       "  'of',\n",
       "  'the',\n",
       "  'Conservative',\n",
       "  'Party',\n",
       "  '.']]"
      ]
     },
     "execution_count": 9,
     "metadata": {},
     "output_type": "execute_result"
    }
   ],
   "source": [
    "sentences = [nltk.word_tokenize(sent) for sent in sentences]\n",
    "sentences"
   ]
  },
  {
   "cell_type": "code",
   "execution_count": 12,
   "metadata": {},
   "outputs": [
    {
     "data": {
      "text/plain": [
       "[[('Mr', 'NNP'),\n",
       "  ('David', 'NNP'),\n",
       "  ('Gauke', 'NNP'),\n",
       "  ('is', 'VBZ'),\n",
       "  ('the', 'DT'),\n",
       "  ('Member', 'NNP'),\n",
       "  ('of', 'IN'),\n",
       "  ('Parliament', 'NNP'),\n",
       "  ('for', 'IN'),\n",
       "  ('South', 'NNP'),\n",
       "  ('West', 'NNP'),\n",
       "  ('Hertfordshire', 'NNP'),\n",
       "  ('.', '.')],\n",
       " [('David', 'NNP'),\n",
       "  ('Gauke', 'NNP'),\n",
       "  ('is', 'VBZ'),\n",
       "  ('a', 'DT'),\n",
       "  ('member', 'NN'),\n",
       "  ('of', 'IN'),\n",
       "  ('the', 'DT'),\n",
       "  ('Conservative', 'NNP'),\n",
       "  ('Party', 'NNP'),\n",
       "  ('.', '.')]]"
      ]
     },
     "execution_count": 12,
     "metadata": {},
     "output_type": "execute_result"
    }
   ],
   "source": [
    "sentences = [nltk.pos_tag(sent) for sent in sentences]\n",
    "sentences"
   ]
  },
  {
   "cell_type": "code",
   "execution_count": 15,
   "metadata": {},
   "outputs": [
    {
     "name": "stdout",
     "output_type": "stream",
     "text": [
      "(S\n",
      "  Mr/NNP\n",
      "  David/NNP\n",
      "  Gauke/NNP\n",
      "  is/VBZ\n",
      "  the/DT\n",
      "  Member/NNP\n",
      "  of/IN\n",
      "  Parliament/NNP\n",
      "  for/IN\n",
      "  South/NNP\n",
      "  West/NNP\n",
      "  Hertfordshire/NNP\n",
      "  ./.)\n",
      "(S\n",
      "  David/NNP\n",
      "  Gauke/NNP\n",
      "  is/VBZ\n",
      "  (NP a/DT member/NN)\n",
      "  of/IN\n",
      "  the/DT\n",
      "  Conservative/NNP\n",
      "  Party/NNP\n",
      "  ./.)\n"
     ]
    }
   ],
   "source": [
    "grammar = \"NP: {<DT>?<JJ>*<NN>}\"\n",
    "cp = nltk.RegexpParser(grammar)\n",
    "\n",
    "for sent in sentences:\n",
    "    result = cp.parse(sent)\n",
    "    print(result)\n"
   ]
  },
  {
   "cell_type": "code",
   "execution_count": 61,
   "metadata": {},
   "outputs": [
    {
     "name": "stdout",
     "output_type": "stream",
     "text": [
      "\n",
      "Sentence:\n",
      "\n",
      "(S\n",
      "  (NP Mr/NNP David/NNP Gauke/NNP)\n",
      "  is/VBZ\n",
      "  the/DT\n",
      "  (NP Member/NNP)\n",
      "  of/IN\n",
      "  (NP Parliament/NNP)\n",
      "  for/IN\n",
      "  (NP South/NNP West/NNP Hertfordshire/NNP)\n",
      "  ./.)\n",
      "\n",
      "Sentence:\n",
      "\n",
      "(S\n",
      "  (NP David/NNP Gauke/NNP)\n",
      "  is/VBZ\n",
      "  (NP a/DT member/NN)\n",
      "  of/IN\n",
      "  the/DT\n",
      "  (NP Conservative/NNP Party/NNP)\n",
      "  ./.)\n",
      "\n",
      "Final Tree:\n",
      "\n",
      "[Tree('S', [Tree('NP', [('Mr', 'NNP'), ('David', 'NNP'), ('Gauke', 'NNP')]), ('is', 'VBZ'), ('the', 'DT'), Tree('NP', [('Member', 'NNP')]), ('of', 'IN'), Tree('NP', [('Parliament', 'NNP')]), ('for', 'IN'), Tree('NP', [('South', 'NNP'), ('West', 'NNP'), ('Hertfordshire', 'NNP')]), ('.', '.')]), Tree('S', [Tree('NP', [('David', 'NNP'), ('Gauke', 'NNP')]), ('is', 'VBZ'), Tree('NP', [('a', 'DT'), ('member', 'NN')]), ('of', 'IN'), ('the', 'DT'), Tree('NP', [('Conservative', 'NNP'), ('Party', 'NNP')]), ('.', '.')])]\n"
     ]
    }
   ],
   "source": [
    "grammar = r\"\"\"\n",
    "  NP: {<DT|PP\\$>?<JJ>*<NN>}   # chunk determiner/possessive, adjectives and noun\n",
    "      {<NNP>+}                # chunk sequences of proper nouns\n",
    "\"\"\"\n",
    "cp = nltk.RegexpParser(grammar)\n",
    "\n",
    "parsed_trees=[]\n",
    "\n",
    "for sent in sentences:\n",
    "    result = cp.parse(sent)\n",
    "    print(\"\\nSentence:\\n\")\n",
    "    print(result)\n",
    "    parsed_trees.append(result)\n",
    "\n",
    "print(\"\\nFinal Tree:\\n\")\n",
    "print(parsed_trees)"
   ]
  },
  {
   "cell_type": "code",
   "execution_count": 63,
   "metadata": {},
   "outputs": [
    {
     "name": "stdout",
     "output_type": "stream",
     "text": [
      "(S\n",
      "  (NP David/NNP Gauke/NNP)\n",
      "  is/VBZ\n",
      "  (NP a/DT member/NN)\n",
      "  of/IN\n",
      "  the/DT\n",
      "  (NP Conservative/NNP Party/NNP)\n",
      "  ./.)\n"
     ]
    }
   ],
   "source": [
    "# DO for 1 sentence only\n",
    "\n",
    "result = cp.parse(sent)\n",
    "print(result)\n"
   ]
  },
  {
   "cell_type": "code",
   "execution_count": 66,
   "metadata": {},
   "outputs": [
    {
     "data": {
      "text/plain": [
       "nltk.tree.Tree"
      ]
     },
     "execution_count": 66,
     "metadata": {},
     "output_type": "execute_result"
    }
   ],
   "source": [
    "type(result)"
   ]
  },
  {
   "cell_type": "code",
   "execution_count": 51,
   "metadata": {},
   "outputs": [
    {
     "data": {
      "text/plain": [
       "list"
      ]
     },
     "execution_count": 51,
     "metadata": {},
     "output_type": "execute_result"
    }
   ],
   "source": [
    "type(parsed_trees)"
   ]
  },
  {
   "cell_type": "code",
   "execution_count": 52,
   "metadata": {},
   "outputs": [
    {
     "data": {
      "text/plain": [
       "7"
      ]
     },
     "execution_count": 52,
     "metadata": {},
     "output_type": "execute_result"
    }
   ],
   "source": [
    "len(result)"
   ]
  },
  {
   "cell_type": "code",
   "execution_count": 54,
   "metadata": {},
   "outputs": [
    {
     "data": {
      "text/plain": [
       "'S'"
      ]
     },
     "execution_count": 54,
     "metadata": {},
     "output_type": "execute_result"
    }
   ],
   "source": [
    "ne_label = result.label()\n",
    "ne_label"
   ]
  },
  {
   "cell_type": "code",
   "execution_count": 48,
   "metadata": {},
   "outputs": [
    {
     "name": "stdout",
     "output_type": "stream",
     "text": [
      "('David', 'NNP')\n",
      "('Gauke', 'NNP')\n",
      "('is', 'VBZ')\n",
      "('a', 'DT')\n",
      "('member', 'NN')\n",
      "('of', 'IN')\n",
      "('the', 'DT')\n",
      "('Conservative', 'NNP')\n",
      "('Party', 'NNP')\n",
      "('.', '.')\n"
     ]
    }
   ],
   "source": [
    "for i in result.leaves():\n",
    "    print(i)"
   ]
  },
  {
   "cell_type": "code",
   "execution_count": 67,
   "metadata": {},
   "outputs": [
    {
     "data": {
      "text/plain": [
       "[('David Gauke is a member of the Conservative Party .', 'S')]"
      ]
     },
     "execution_count": 67,
     "metadata": {},
     "output_type": "execute_result"
    }
   ],
   "source": [
    "# Do for 1 sentence\n",
    "\n",
    "ne_in_sent = []\n",
    "\n",
    "if type(result) == nltk.tree.Tree: # If subtree is a noun chunk, i.e. NE != \"O\"\n",
    "        ne_string = \" \".join([token for token, pos in result.leaves()])\n",
    "        ne_in_sent.append((ne_string, ne_label))\n",
    "\n",
    "ne_in_sent"
   ]
  },
  {
   "cell_type": "code",
   "execution_count": 69,
   "metadata": {},
   "outputs": [
    {
     "data": {
      "text/plain": [
       "[('David Gauke', 'NP'), ('a member', 'NP'), ('Conservative Party', 'NP')]"
      ]
     },
     "execution_count": 69,
     "metadata": {},
     "output_type": "execute_result"
    }
   ],
   "source": [
    "def get_ents(ne_tree):\n",
    "    ne_in_sent = []\n",
    "    for subtree in ne_tree:\n",
    "        if type(subtree) == nltk.tree.Tree: # If subtree is a noun chunk, i.e. NE != \"O\"\n",
    "            ne_label = subtree.label()\n",
    "            ne_string = \" \".join([token for token, pos in subtree.leaves()])\n",
    "            ne_in_sent.append((ne_string, ne_label))\n",
    "    # Return list of entity tuples\n",
    "    return ne_in_sent\n",
    "\n",
    "get_ents(result)"
   ]
  },
  {
   "cell_type": "code",
   "execution_count": 71,
   "metadata": {},
   "outputs": [
    {
     "data": {
      "text/plain": [
       "[[('Mr David Gauke', 'NP'),\n",
       "  ('Member', 'NP'),\n",
       "  ('Parliament', 'NP'),\n",
       "  ('South West Hertfordshire', 'NP')],\n",
       " [('David Gauke', 'NP'), ('a member', 'NP'), ('Conservative Party', 'NP')]]"
      ]
     },
     "execution_count": 71,
     "metadata": {},
     "output_type": "execute_result"
    }
   ],
   "source": [
    "ents = [get_ents(tree) for tree in parsed_trees]\n",
    "ents"
   ]
  },
  {
   "cell_type": "code",
   "execution_count": 72,
   "metadata": {},
   "outputs": [
    {
     "data": {
      "text/plain": [
       "list"
      ]
     },
     "execution_count": 72,
     "metadata": {},
     "output_type": "execute_result"
    }
   ],
   "source": [
    "type(ents)"
   ]
  },
  {
   "cell_type": "code",
   "execution_count": 74,
   "metadata": {},
   "outputs": [
    {
     "data": {
      "text/html": [
       "<div>\n",
       "<table border=\"1\" class=\"dataframe\">\n",
       "  <thead>\n",
       "    <tr style=\"text-align: right;\">\n",
       "      <th></th>\n",
       "      <th>0</th>\n",
       "      <th>1</th>\n",
       "      <th>2</th>\n",
       "      <th>3</th>\n",
       "    </tr>\n",
       "  </thead>\n",
       "  <tbody>\n",
       "    <tr>\n",
       "      <th>0</th>\n",
       "      <td>(Mr David Gauke, NP)</td>\n",
       "      <td>(Member, NP)</td>\n",
       "      <td>(Parliament, NP)</td>\n",
       "      <td>(South West Hertfordshire, NP)</td>\n",
       "    </tr>\n",
       "    <tr>\n",
       "      <th>1</th>\n",
       "      <td>(David Gauke, NP)</td>\n",
       "      <td>(a member, NP)</td>\n",
       "      <td>(Conservative Party, NP)</td>\n",
       "      <td>None</td>\n",
       "    </tr>\n",
       "  </tbody>\n",
       "</table>\n",
       "</div>"
      ],
      "text/plain": [
       "                      0               1                         2  \\\n",
       "0  (Mr David Gauke, NP)    (Member, NP)          (Parliament, NP)   \n",
       "1     (David Gauke, NP)  (a member, NP)  (Conservative Party, NP)   \n",
       "\n",
       "                                3  \n",
       "0  (South West Hertfordshire, NP)  \n",
       "1                            None  "
      ]
     },
     "execution_count": 74,
     "metadata": {},
     "output_type": "execute_result"
    }
   ],
   "source": [
    "import pandas\n",
    "\n",
    "ents_df = pandas.DataFrame(ents)\n",
    "\n",
    "ents_df"
   ]
  },
  {
   "cell_type": "code",
   "execution_count": null,
   "metadata": {
    "collapsed": true
   },
   "outputs": [],
   "source": []
  }
 ],
 "metadata": {
  "kernelspec": {
   "display_name": "Python 3",
   "language": "python",
   "name": "python3"
  },
  "language_info": {
   "codemirror_mode": {
    "name": "ipython",
    "version": 3
   },
   "file_extension": ".py",
   "mimetype": "text/x-python",
   "name": "python",
   "nbconvert_exporter": "python",
   "pygments_lexer": "ipython3",
   "version": "3.6.1"
  }
 },
 "nbformat": 4,
 "nbformat_minor": 2
}
