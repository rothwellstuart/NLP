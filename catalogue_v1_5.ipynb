{
 "cells": [
  {
   "cell_type": "markdown",
   "metadata": {},
   "source": [
    "# Catalogue_v1_5\n",
    "\n",
    "Catalogue files in a directory: file type and size. \n",
    "\n",
    "V1.4: include python-magic to extract filetype from file\n",
    "V1.5: run via docker, linux file system paths"
   ]
  },
  {
   "cell_type": "code",
   "execution_count": 20,
   "metadata": {},
   "outputs": [],
   "source": [
    "# import pip #needed to use the pip functions\n",
    "# for i in pip.get_installed_distributions(local_only=True):\n",
    "#    print(i)"
   ]
  },
  {
   "cell_type": "code",
   "execution_count": 1,
   "metadata": {},
   "outputs": [
    {
     "ename": "ModuleNotFoundError",
     "evalue": "No module named 'magic'",
     "output_type": "error",
     "traceback": [
      "\u001b[0;31m---------------------------------------------------------------------------\u001b[0m",
      "\u001b[0;31mModuleNotFoundError\u001b[0m                       Traceback (most recent call last)",
      "\u001b[0;32m<ipython-input-1-2c55194dfb34>\u001b[0m in \u001b[0;36m<module>\u001b[0;34m()\u001b[0m\n\u001b[0;32m----> 1\u001b[0;31m \u001b[0;32mimport\u001b[0m \u001b[0mmagic\u001b[0m\u001b[0;34m\u001b[0m\u001b[0m\n\u001b[0m\u001b[1;32m      2\u001b[0m \u001b[0;34m\u001b[0m\u001b[0m\n\u001b[1;32m      3\u001b[0m \u001b[0;31m# file_magic = magic.Magic(magic_file=\"C:\\\\Users\\\\rothw\\\\Anaconda3\\\\magic.mgc\")\u001b[0m\u001b[0;34m\u001b[0m\u001b[0;34m\u001b[0m\u001b[0m\n",
      "\u001b[0;31mModuleNotFoundError\u001b[0m: No module named 'magic'"
     ]
    }
   ],
   "source": [
    "import magic\n",
    "\n",
    "# file_magic = magic.Magic(magic_file=\"C:\\\\Users\\\\rothw\\\\Anaconda3\\\\magic.mgc\")"
   ]
  },
  {
   "cell_type": "code",
   "execution_count": 9,
   "metadata": {
    "collapsed": true
   },
   "outputs": [],
   "source": [
    "# Imports\n",
    "import os, sys\n",
    "from os import listdir, environ\n",
    "from os.path import isfile, join\n",
    "\n",
    "import pandas as pd"
   ]
  },
  {
   "cell_type": "code",
   "execution_count": 10,
   "metadata": {},
   "outputs": [
    {
     "data": {
      "text/plain": [
       "'/opt/notebooks'"
      ]
     },
     "execution_count": 10,
     "metadata": {},
     "output_type": "execute_result"
    }
   ],
   "source": [
    "# Get current working directory\n",
    "\n",
    "os.getcwd()"
   ]
  },
  {
   "cell_type": "code",
   "execution_count": 23,
   "metadata": {},
   "outputs": [
    {
     "name": "stdout",
     "output_type": "stream",
     "text": [
      "/opt/mail/test-data/Archive\n"
     ]
    },
    {
     "data": {
      "text/plain": [
       "['11.',\n",
       " '13.',\n",
       " '2.',\n",
       " '1.',\n",
       " '9.',\n",
       " '7.',\n",
       " '8.',\n",
       " '12.',\n",
       " '4.',\n",
       " '3.',\n",
       " '10.',\n",
       " '5.',\n",
       " '6.']"
      ]
     },
     "execution_count": 23,
     "metadata": {},
     "output_type": "execute_result"
    }
   ],
   "source": [
    "# Set directory\n",
    "\n",
    "### Newdata Laptop\n",
    "# my_path = '/opt/paper/Op_Uucan_Cleansed/Items'\n",
    "\n",
    "### Windows Laptop\n",
    "# my_path = 'C:\\\\Users\\\\rothw\\\\Documents\\\\BDEC\\\\Data\\\\enron-test-data'\n",
    "my_path = '/opt/mail/test-data/Archive'\n",
    "\n",
    "print(my_path)\n",
    "\n",
    "# os.listdir(my_path)"
   ]
  },
  {
   "cell_type": "code",
   "execution_count": 12,
   "metadata": {},
   "outputs": [
    {
     "name": "stdout",
     "output_type": "stream",
     "text": [
      "File size = 1126\n"
     ]
    }
   ],
   "source": [
    "# Test on one file\n",
    "\n",
    "### Newdata Laptop\n",
    "# bb='[Unnamed Image]_3405.jpeg'\n",
    "\n",
    "### Windows laptop\n",
    "bb = '1.'\n",
    "\n",
    "print(\"File size = \" + str(os.path.getsize(join(my_path, bb))))"
   ]
  },
  {
   "cell_type": "markdown",
   "metadata": {},
   "source": [
    "##### filetype example - now uninstalled as didn;t support filetypes of interest, such as doc, etc.\n",
    "\n",
    "print (\"File type = \")\n",
    "kind = filetype.guess(join(my_path, bb))\n",
    "if kind == None:\n",
    "    print('None')\n",
    "else:\n",
    "    print(kind.extension)\n",
    "    print(kind.mime)"
   ]
  },
  {
   "cell_type": "code",
   "execution_count": 13,
   "metadata": {},
   "outputs": [
    {
     "ename": "NameError",
     "evalue": "name 'magic' is not defined",
     "output_type": "error",
     "traceback": [
      "\u001b[0;31m---------------------------------------------------------------------------\u001b[0m",
      "\u001b[0;31mNameError\u001b[0m                                 Traceback (most recent call last)",
      "\u001b[0;32m<ipython-input-13-a5fa1ca23dd2>\u001b[0m in \u001b[0;36m<module>\u001b[0;34m()\u001b[0m\n\u001b[0;32m----> 1\u001b[0;31m \u001b[0mmagic_object\u001b[0m \u001b[0;34m=\u001b[0m \u001b[0mmagic\u001b[0m\u001b[0;34m.\u001b[0m\u001b[0mMagic\u001b[0m\u001b[0;34m(\u001b[0m\u001b[0mmagic_file\u001b[0m\u001b[0;34m=\u001b[0m\u001b[0;34m\"C:\\\\Users\\\\rothw\\\\Anaconda3\\\\magic.mgc\"\u001b[0m\u001b[0;34m,\u001b[0m \u001b[0mmime\u001b[0m\u001b[0;34m=\u001b[0m\u001b[0;32mTrue\u001b[0m\u001b[0;34m)\u001b[0m\u001b[0;34m\u001b[0m\u001b[0m\n\u001b[0m\u001b[1;32m      2\u001b[0m \u001b[0;34m\u001b[0m\u001b[0m\n\u001b[1;32m      3\u001b[0m \u001b[0;31m# help(magic_object)\u001b[0m\u001b[0;34m\u001b[0m\u001b[0;34m\u001b[0m\u001b[0m\n\u001b[1;32m      4\u001b[0m \u001b[0;34m\u001b[0m\u001b[0m\n\u001b[1;32m      5\u001b[0m \u001b[0mmagic_object\u001b[0m\u001b[0;34m.\u001b[0m\u001b[0mfrom_file\u001b[0m\u001b[0;34m(\u001b[0m\u001b[0mjoin\u001b[0m\u001b[0;34m(\u001b[0m\u001b[0mmy_path\u001b[0m\u001b[0;34m,\u001b[0m \u001b[0mbb\u001b[0m\u001b[0;34m)\u001b[0m\u001b[0;34m)\u001b[0m\u001b[0;34m\u001b[0m\u001b[0m\n",
      "\u001b[0;31mNameError\u001b[0m: name 'magic' is not defined"
     ]
    }
   ],
   "source": [
    "magic_object = magic.Magic(magic_file=\"C:\\\\Users\\\\rothw\\\\Anaconda3\\\\magic.mgc\", mime=True)\n",
    "\n",
    "# help(magic_object)\n",
    "\n",
    "magic_object.from_file(join(my_path, bb))"
   ]
  },
  {
   "cell_type": "code",
   "execution_count": 15,
   "metadata": {},
   "outputs": [
    {
     "name": "stdout",
     "output_type": "stream",
     "text": [
      "['/opt/mail/test-data/Archive', '11.', 480, '.']\n",
      "['/opt/mail/test-data/Archive', '13.', 974, '.']\n",
      "['/opt/mail/test-data/Archive', '2.', 1405, '.']\n",
      "['/opt/mail/test-data/Archive', '1.', 1126, '.']\n",
      "['/opt/mail/test-data/Archive', '9.', 649, '.']\n",
      "['/opt/mail/test-data/Archive', '7.', 1199, '.']\n",
      "['/opt/mail/test-data/Archive', '8.', 586, '.']\n",
      "['/opt/mail/test-data/Archive', '12.', 884, '.']\n",
      "['/opt/mail/test-data/Archive', '4.', 870, '.']\n",
      "['/opt/mail/test-data/Archive', '3.', 1522, '.']\n",
      "['/opt/mail/test-data/Archive', '10.', 478, '.']\n",
      "['/opt/mail/test-data/Archive', '5.', 798, '.']\n",
      "['/opt/mail/test-data/Archive', '6.', 11895, '.']\n"
     ]
    }
   ],
   "source": [
    "# Loop through all files in directory\n",
    "\n",
    "allfiles=[]\n",
    "urn = 0\n",
    "\n",
    "for subdir, dirs, files in os.walk(my_path):\n",
    "    for file in files:\n",
    "        urn += 1\n",
    "        row=[]\n",
    "        row.append(subdir)\n",
    "        row.append(file)\n",
    "#        if isfile(join(my_path, file)):\n",
    "        row.append(os.path.getsize(join(subdir, file)))\n",
    "        row.append(os.path.splitext(join(subdir, file))[1].upper())\n",
    "###        row.append(magic_object.from_file(join(subdir, file)))\n",
    "        print(row)\n",
    "        allfiles.append(row)"
   ]
  },
  {
   "cell_type": "code",
   "execution_count": 16,
   "metadata": {},
   "outputs": [
    {
     "data": {
      "text/plain": [
       "list"
      ]
     },
     "execution_count": 16,
     "metadata": {},
     "output_type": "execute_result"
    }
   ],
   "source": [
    "type(allfiles)"
   ]
  },
  {
   "cell_type": "code",
   "execution_count": 17,
   "metadata": {},
   "outputs": [
    {
     "data": {
      "text/plain": [
       "13"
      ]
     },
     "execution_count": 17,
     "metadata": {},
     "output_type": "execute_result"
    }
   ],
   "source": [
    "len(allfiles)"
   ]
  },
  {
   "cell_type": "code",
   "execution_count": 18,
   "metadata": {},
   "outputs": [
    {
     "data": {
      "text/plain": [
       "13"
      ]
     },
     "execution_count": 18,
     "metadata": {},
     "output_type": "execute_result"
    }
   ],
   "source": [
    "urn"
   ]
  },
  {
   "cell_type": "code",
   "execution_count": 19,
   "metadata": {},
   "outputs": [
    {
     "ename": "ValueError",
     "evalue": "Length mismatch: Expected axis has 4 elements, new values have 5 elements",
     "output_type": "error",
     "traceback": [
      "\u001b[0;31m---------------------------------------------------------------------------\u001b[0m",
      "\u001b[0;31mValueError\u001b[0m                                Traceback (most recent call last)",
      "\u001b[0;32m<ipython-input-19-d6a6b38d71a6>\u001b[0m in \u001b[0;36m<module>\u001b[0;34m()\u001b[0m\n\u001b[1;32m      3\u001b[0m \u001b[0;34m\u001b[0m\u001b[0m\n\u001b[1;32m      4\u001b[0m \u001b[0;31m# Rename columns\u001b[0m\u001b[0;34m\u001b[0m\u001b[0;34m\u001b[0m\u001b[0m\n\u001b[0;32m----> 5\u001b[0;31m \u001b[0mallfiles_df\u001b[0m\u001b[0;34m.\u001b[0m\u001b[0mcolumns\u001b[0m \u001b[0;34m=\u001b[0m \u001b[0;34m[\u001b[0m\u001b[0;34m'subdir'\u001b[0m\u001b[0;34m,\u001b[0m \u001b[0;34m'filename'\u001b[0m\u001b[0;34m,\u001b[0m \u001b[0;34m'size'\u001b[0m\u001b[0;34m,\u001b[0m \u001b[0;34m'fileext'\u001b[0m\u001b[0;34m,\u001b[0m \u001b[0;34m'mimetype'\u001b[0m\u001b[0;34m]\u001b[0m\u001b[0;34m\u001b[0m\u001b[0m\n\u001b[0m\u001b[1;32m      6\u001b[0m \u001b[0;34m\u001b[0m\u001b[0m\n\u001b[1;32m      7\u001b[0m \u001b[0;31m# Split out mimetype\u001b[0m\u001b[0;34m\u001b[0m\u001b[0;34m\u001b[0m\u001b[0m\n",
      "\u001b[0;32m/opt/conda/lib/python3.6/site-packages/pandas/core/generic.py\u001b[0m in \u001b[0;36m__setattr__\u001b[0;34m(self, name, value)\u001b[0m\n\u001b[1;32m   3625\u001b[0m         \u001b[0;32mtry\u001b[0m\u001b[0;34m:\u001b[0m\u001b[0;34m\u001b[0m\u001b[0m\n\u001b[1;32m   3626\u001b[0m             \u001b[0mobject\u001b[0m\u001b[0;34m.\u001b[0m\u001b[0m__getattribute__\u001b[0m\u001b[0;34m(\u001b[0m\u001b[0mself\u001b[0m\u001b[0;34m,\u001b[0m \u001b[0mname\u001b[0m\u001b[0;34m)\u001b[0m\u001b[0;34m\u001b[0m\u001b[0m\n\u001b[0;32m-> 3627\u001b[0;31m             \u001b[0;32mreturn\u001b[0m \u001b[0mobject\u001b[0m\u001b[0;34m.\u001b[0m\u001b[0m__setattr__\u001b[0m\u001b[0;34m(\u001b[0m\u001b[0mself\u001b[0m\u001b[0;34m,\u001b[0m \u001b[0mname\u001b[0m\u001b[0;34m,\u001b[0m \u001b[0mvalue\u001b[0m\u001b[0;34m)\u001b[0m\u001b[0;34m\u001b[0m\u001b[0m\n\u001b[0m\u001b[1;32m   3628\u001b[0m         \u001b[0;32mexcept\u001b[0m \u001b[0mAttributeError\u001b[0m\u001b[0;34m:\u001b[0m\u001b[0;34m\u001b[0m\u001b[0m\n\u001b[1;32m   3629\u001b[0m             \u001b[0;32mpass\u001b[0m\u001b[0;34m\u001b[0m\u001b[0m\n",
      "\u001b[0;32mpandas/_libs/properties.pyx\u001b[0m in \u001b[0;36mpandas._libs.properties.AxisProperty.__set__\u001b[0;34m()\u001b[0m\n",
      "\u001b[0;32m/opt/conda/lib/python3.6/site-packages/pandas/core/generic.py\u001b[0m in \u001b[0;36m_set_axis\u001b[0;34m(self, axis, labels)\u001b[0m\n\u001b[1;32m    557\u001b[0m \u001b[0;34m\u001b[0m\u001b[0m\n\u001b[1;32m    558\u001b[0m     \u001b[0;32mdef\u001b[0m \u001b[0m_set_axis\u001b[0m\u001b[0;34m(\u001b[0m\u001b[0mself\u001b[0m\u001b[0;34m,\u001b[0m \u001b[0maxis\u001b[0m\u001b[0;34m,\u001b[0m \u001b[0mlabels\u001b[0m\u001b[0;34m)\u001b[0m\u001b[0;34m:\u001b[0m\u001b[0;34m\u001b[0m\u001b[0m\n\u001b[0;32m--> 559\u001b[0;31m         \u001b[0mself\u001b[0m\u001b[0;34m.\u001b[0m\u001b[0m_data\u001b[0m\u001b[0;34m.\u001b[0m\u001b[0mset_axis\u001b[0m\u001b[0;34m(\u001b[0m\u001b[0maxis\u001b[0m\u001b[0;34m,\u001b[0m \u001b[0mlabels\u001b[0m\u001b[0;34m)\u001b[0m\u001b[0;34m\u001b[0m\u001b[0m\n\u001b[0m\u001b[1;32m    560\u001b[0m         \u001b[0mself\u001b[0m\u001b[0;34m.\u001b[0m\u001b[0m_clear_item_cache\u001b[0m\u001b[0;34m(\u001b[0m\u001b[0;34m)\u001b[0m\u001b[0;34m\u001b[0m\u001b[0m\n\u001b[1;32m    561\u001b[0m \u001b[0;34m\u001b[0m\u001b[0m\n",
      "\u001b[0;32m/opt/conda/lib/python3.6/site-packages/pandas/core/internals.py\u001b[0m in \u001b[0;36mset_axis\u001b[0;34m(self, axis, new_labels)\u001b[0m\n\u001b[1;32m   3067\u001b[0m             raise ValueError('Length mismatch: Expected axis has %d elements, '\n\u001b[1;32m   3068\u001b[0m                              \u001b[0;34m'new values have %d elements'\u001b[0m \u001b[0;34m%\u001b[0m\u001b[0;34m\u001b[0m\u001b[0m\n\u001b[0;32m-> 3069\u001b[0;31m                              (old_len, new_len))\n\u001b[0m\u001b[1;32m   3070\u001b[0m \u001b[0;34m\u001b[0m\u001b[0m\n\u001b[1;32m   3071\u001b[0m         \u001b[0mself\u001b[0m\u001b[0;34m.\u001b[0m\u001b[0maxes\u001b[0m\u001b[0;34m[\u001b[0m\u001b[0maxis\u001b[0m\u001b[0;34m]\u001b[0m \u001b[0;34m=\u001b[0m \u001b[0mnew_labels\u001b[0m\u001b[0;34m\u001b[0m\u001b[0m\n",
      "\u001b[0;31mValueError\u001b[0m: Length mismatch: Expected axis has 4 elements, new values have 5 elements"
     ]
    }
   ],
   "source": [
    "# Convert to DataFrame\n",
    "allfiles_df = pd.DataFrame(allfiles)\n",
    "\n",
    "# Rename columns\n",
    "allfiles_df.columns = ['subdir', 'filename', 'size', 'fileext', 'mimetype']\n",
    "\n",
    "# Split out mimetype\n",
    "allfiles_df[['mime1', 'mime2']] = pd.DataFrame(allfiles_df.mimetype.str.split('/').tolist(), columns=['mime1', 'mime2'])\n",
    "\n",
    "allfiles_df.head(30)"
   ]
  },
  {
   "cell_type": "code",
   "execution_count": null,
   "metadata": {
    "collapsed": true
   },
   "outputs": [],
   "source": [
    "# Output to CSV\n",
    "\n",
    "allfiles_df.to_csv('/opt/outputs/results.csv')"
   ]
  },
  {
   "cell_type": "code",
   "execution_count": 60,
   "metadata": {},
   "outputs": [
    {
     "name": "stdout",
     "output_type": "stream",
     "text": [
      "filecount_total = filename    8467\n",
      "dtype: int64\n"
     ]
    },
    {
     "data": {
      "text/html": [
       "<div>\n",
       "<style>\n",
       "    .dataframe thead tr:only-child th {\n",
       "        text-align: right;\n",
       "    }\n",
       "\n",
       "    .dataframe thead th {\n",
       "        text-align: left;\n",
       "    }\n",
       "\n",
       "    .dataframe tbody tr th {\n",
       "        vertical-align: top;\n",
       "    }\n",
       "</style>\n",
       "<table border=\"1\" class=\"dataframe\">\n",
       "  <thead>\n",
       "    <tr style=\"text-align: right;\">\n",
       "      <th></th>\n",
       "      <th>num_files</th>\n",
       "      <th>perc_num_files</th>\n",
       "    </tr>\n",
       "    <tr>\n",
       "      <th>fileext</th>\n",
       "      <th></th>\n",
       "      <th></th>\n",
       "    </tr>\n",
       "  </thead>\n",
       "  <tbody>\n",
       "    <tr>\n",
       "      <th></th>\n",
       "      <td>8401</td>\n",
       "      <td>0.992205</td>\n",
       "    </tr>\n",
       "    <tr>\n",
       "      <th>.JPG</th>\n",
       "      <td>37</td>\n",
       "      <td>0.004370</td>\n",
       "    </tr>\n",
       "    <tr>\n",
       "      <th>.PDF</th>\n",
       "      <td>17</td>\n",
       "      <td>0.002008</td>\n",
       "    </tr>\n",
       "    <tr>\n",
       "      <th>.TXT</th>\n",
       "      <td>5</td>\n",
       "      <td>0.000591</td>\n",
       "    </tr>\n",
       "    <tr>\n",
       "      <th>.PNG</th>\n",
       "      <td>3</td>\n",
       "      <td>0.000354</td>\n",
       "    </tr>\n",
       "    <tr>\n",
       "      <th>.DS_STORE</th>\n",
       "      <td>2</td>\n",
       "      <td>0.000236</td>\n",
       "    </tr>\n",
       "    <tr>\n",
       "      <th>.DOCX</th>\n",
       "      <td>1</td>\n",
       "      <td>0.000118</td>\n",
       "    </tr>\n",
       "    <tr>\n",
       "      <th>.ZIP</th>\n",
       "      <td>1</td>\n",
       "      <td>0.000118</td>\n",
       "    </tr>\n",
       "  </tbody>\n",
       "</table>\n",
       "</div>"
      ],
      "text/plain": [
       "           num_files  perc_num_files\n",
       "fileext                             \n",
       "                8401        0.992205\n",
       ".JPG              37        0.004370\n",
       ".PDF              17        0.002008\n",
       ".TXT               5        0.000591\n",
       ".PNG               3        0.000354\n",
       ".DS_STORE          2        0.000236\n",
       ".DOCX              1        0.000118\n",
       ".ZIP               1        0.000118"
      ]
     },
     "execution_count": 60,
     "metadata": {},
     "output_type": "execute_result"
    }
   ],
   "source": [
    "# Summarise no. records by filetype\n",
    "\n",
    "summary_count = allfiles_df[['filename', 'fileext']].groupby(['fileext']).count()\n",
    "\n",
    "filecount_total = summary_count.sum()\n",
    "print(\"filecount_total = \" + str(filecount_total))\n",
    "\n",
    "summary_count['percent'] = summary_count['filename'] / float(filecount_total)\n",
    "\n",
    "summary_count.rename(columns={'filename': 'num_files', 'percent': 'perc_num_files'}, inplace=True)\n",
    "\n",
    "summary_count.sort_values('num_files', ascending=False).head(30)"
   ]
  },
  {
   "cell_type": "code",
   "execution_count": 61,
   "metadata": {},
   "outputs": [
    {
     "name": "stdout",
     "output_type": "stream",
     "text": [
      "size_total = size    33145118\n",
      "dtype: int64\n"
     ]
    },
    {
     "data": {
      "text/html": [
       "<div>\n",
       "<style>\n",
       "    .dataframe thead tr:only-child th {\n",
       "        text-align: right;\n",
       "    }\n",
       "\n",
       "    .dataframe thead th {\n",
       "        text-align: left;\n",
       "    }\n",
       "\n",
       "    .dataframe tbody tr th {\n",
       "        vertical-align: top;\n",
       "    }\n",
       "</style>\n",
       "<table border=\"1\" class=\"dataframe\">\n",
       "  <thead>\n",
       "    <tr style=\"text-align: right;\">\n",
       "      <th></th>\n",
       "      <th>size</th>\n",
       "      <th>perc_size</th>\n",
       "    </tr>\n",
       "    <tr>\n",
       "      <th>fileext</th>\n",
       "      <th></th>\n",
       "      <th></th>\n",
       "    </tr>\n",
       "  </thead>\n",
       "  <tbody>\n",
       "    <tr>\n",
       "      <th></th>\n",
       "      <td>17048698</td>\n",
       "      <td>0.514365</td>\n",
       "    </tr>\n",
       "    <tr>\n",
       "      <th>.ZIP</th>\n",
       "      <td>12485691</td>\n",
       "      <td>0.376698</td>\n",
       "    </tr>\n",
       "    <tr>\n",
       "      <th>.JPG</th>\n",
       "      <td>1306337</td>\n",
       "      <td>0.039413</td>\n",
       "    </tr>\n",
       "    <tr>\n",
       "      <th>.PDF</th>\n",
       "      <td>1286212</td>\n",
       "      <td>0.038805</td>\n",
       "    </tr>\n",
       "    <tr>\n",
       "      <th>.PNG</th>\n",
       "      <td>995603</td>\n",
       "      <td>0.030038</td>\n",
       "    </tr>\n",
       "    <tr>\n",
       "      <th>.DOCX</th>\n",
       "      <td>18236</td>\n",
       "      <td>0.000550</td>\n",
       "    </tr>\n",
       "    <tr>\n",
       "      <th>.TXT</th>\n",
       "      <td>4101</td>\n",
       "      <td>0.000124</td>\n",
       "    </tr>\n",
       "    <tr>\n",
       "      <th>.DS_STORE</th>\n",
       "      <td>240</td>\n",
       "      <td>0.000007</td>\n",
       "    </tr>\n",
       "  </tbody>\n",
       "</table>\n",
       "</div>"
      ],
      "text/plain": [
       "               size  perc_size\n",
       "fileext                       \n",
       "           17048698   0.514365\n",
       ".ZIP       12485691   0.376698\n",
       ".JPG        1306337   0.039413\n",
       ".PDF        1286212   0.038805\n",
       ".PNG         995603   0.030038\n",
       ".DOCX         18236   0.000550\n",
       ".TXT           4101   0.000124\n",
       ".DS_STORE       240   0.000007"
      ]
     },
     "execution_count": 61,
     "metadata": {},
     "output_type": "execute_result"
    }
   ],
   "source": [
    "# Summarise size by filetype\n",
    "\n",
    "summary_size = allfiles_df[['size', 'fileext']].groupby(['fileext']).sum()\n",
    "\n",
    "size_total = summary_size.sum()\n",
    "print(\"size_total = \" + str(size_total))\n",
    "\n",
    "\n",
    "summary_size['percent'] = summary_size['size'] / float(size_total)\n",
    "\n",
    "summary_size.rename(columns={'percent': 'perc_size'}, inplace=True)\n",
    "\n",
    "summary_size.sort_values('size', ascending=False).head(30)"
   ]
  },
  {
   "cell_type": "code",
   "execution_count": 62,
   "metadata": {},
   "outputs": [
    {
     "data": {
      "text/html": [
       "<div>\n",
       "<style>\n",
       "    .dataframe thead tr:only-child th {\n",
       "        text-align: right;\n",
       "    }\n",
       "\n",
       "    .dataframe thead th {\n",
       "        text-align: left;\n",
       "    }\n",
       "\n",
       "    .dataframe tbody tr th {\n",
       "        vertical-align: top;\n",
       "    }\n",
       "</style>\n",
       "<table border=\"1\" class=\"dataframe\">\n",
       "  <thead>\n",
       "    <tr style=\"text-align: right;\">\n",
       "      <th></th>\n",
       "      <th>num_files</th>\n",
       "      <th>perc_num_files</th>\n",
       "      <th>size</th>\n",
       "      <th>perc_size</th>\n",
       "    </tr>\n",
       "    <tr>\n",
       "      <th>fileext</th>\n",
       "      <th></th>\n",
       "      <th></th>\n",
       "      <th></th>\n",
       "      <th></th>\n",
       "    </tr>\n",
       "  </thead>\n",
       "  <tbody>\n",
       "    <tr>\n",
       "      <th></th>\n",
       "      <td>8401</td>\n",
       "      <td>0.992205</td>\n",
       "      <td>17048698</td>\n",
       "      <td>0.514365</td>\n",
       "    </tr>\n",
       "    <tr>\n",
       "      <th>.DOCX</th>\n",
       "      <td>1</td>\n",
       "      <td>0.000118</td>\n",
       "      <td>18236</td>\n",
       "      <td>0.000550</td>\n",
       "    </tr>\n",
       "    <tr>\n",
       "      <th>.DS_STORE</th>\n",
       "      <td>2</td>\n",
       "      <td>0.000236</td>\n",
       "      <td>240</td>\n",
       "      <td>0.000007</td>\n",
       "    </tr>\n",
       "    <tr>\n",
       "      <th>.JPG</th>\n",
       "      <td>37</td>\n",
       "      <td>0.004370</td>\n",
       "      <td>1306337</td>\n",
       "      <td>0.039413</td>\n",
       "    </tr>\n",
       "    <tr>\n",
       "      <th>.PDF</th>\n",
       "      <td>17</td>\n",
       "      <td>0.002008</td>\n",
       "      <td>1286212</td>\n",
       "      <td>0.038805</td>\n",
       "    </tr>\n",
       "    <tr>\n",
       "      <th>.PNG</th>\n",
       "      <td>3</td>\n",
       "      <td>0.000354</td>\n",
       "      <td>995603</td>\n",
       "      <td>0.030038</td>\n",
       "    </tr>\n",
       "    <tr>\n",
       "      <th>.TXT</th>\n",
       "      <td>5</td>\n",
       "      <td>0.000591</td>\n",
       "      <td>4101</td>\n",
       "      <td>0.000124</td>\n",
       "    </tr>\n",
       "    <tr>\n",
       "      <th>.ZIP</th>\n",
       "      <td>1</td>\n",
       "      <td>0.000118</td>\n",
       "      <td>12485691</td>\n",
       "      <td>0.376698</td>\n",
       "    </tr>\n",
       "  </tbody>\n",
       "</table>\n",
       "</div>"
      ],
      "text/plain": [
       "           num_files  perc_num_files      size  perc_size\n",
       "fileext                                                  \n",
       "                8401        0.992205  17048698   0.514365\n",
       ".DOCX              1        0.000118     18236   0.000550\n",
       ".DS_STORE          2        0.000236       240   0.000007\n",
       ".JPG              37        0.004370   1306337   0.039413\n",
       ".PDF              17        0.002008   1286212   0.038805\n",
       ".PNG               3        0.000354    995603   0.030038\n",
       ".TXT               5        0.000591      4101   0.000124\n",
       ".ZIP               1        0.000118  12485691   0.376698"
      ]
     },
     "execution_count": 62,
     "metadata": {},
     "output_type": "execute_result"
    }
   ],
   "source": [
    "# Merge together num_files and size\n",
    "\n",
    "summary_fileext = pd.merge(summary_count, summary_size, left_index=True, right_index=True)\n",
    "\n",
    "summary_fileext"
   ]
  },
  {
   "cell_type": "code",
   "execution_count": 96,
   "metadata": {},
   "outputs": [
    {
     "data": {
      "text/html": [
       "<div>\n",
       "<style>\n",
       "    .dataframe thead tr:only-child th {\n",
       "        text-align: right;\n",
       "    }\n",
       "\n",
       "    .dataframe thead th {\n",
       "        text-align: left;\n",
       "    }\n",
       "\n",
       "    .dataframe tbody tr th {\n",
       "        vertical-align: top;\n",
       "    }\n",
       "</style>\n",
       "<table border=\"1\" class=\"dataframe\">\n",
       "  <thead>\n",
       "    <tr style=\"text-align: right;\">\n",
       "      <th></th>\n",
       "      <th></th>\n",
       "      <th></th>\n",
       "      <th>num_files</th>\n",
       "      <th>perc_num_files</th>\n",
       "      <th>size</th>\n",
       "      <th>perc_size</th>\n",
       "    </tr>\n",
       "    <tr>\n",
       "      <th>mimetype</th>\n",
       "      <th>mime1</th>\n",
       "      <th>mime2</th>\n",
       "      <th></th>\n",
       "      <th></th>\n",
       "      <th></th>\n",
       "      <th></th>\n",
       "    </tr>\n",
       "  </thead>\n",
       "  <tbody>\n",
       "    <tr>\n",
       "      <th>application/octet-stream</th>\n",
       "      <th>application</th>\n",
       "      <th>octet-stream</th>\n",
       "      <td>465</td>\n",
       "      <td>0.054919</td>\n",
       "      <td>139028</td>\n",
       "      <td>0.004195</td>\n",
       "    </tr>\n",
       "    <tr>\n",
       "      <th>application/pdf</th>\n",
       "      <th>application</th>\n",
       "      <th>pdf</th>\n",
       "      <td>17</td>\n",
       "      <td>0.002008</td>\n",
       "      <td>1286212</td>\n",
       "      <td>0.038805</td>\n",
       "    </tr>\n",
       "    <tr>\n",
       "      <th>application/vnd.openxmlformats-officedocument.wordprocessingml.document</th>\n",
       "      <th>application</th>\n",
       "      <th>vnd.openxmlformats-officedocument.wordprocessingml.document</th>\n",
       "      <td>1</td>\n",
       "      <td>0.000118</td>\n",
       "      <td>18236</td>\n",
       "      <td>0.000550</td>\n",
       "    </tr>\n",
       "    <tr>\n",
       "      <th>application/zip</th>\n",
       "      <th>application</th>\n",
       "      <th>zip</th>\n",
       "      <td>1</td>\n",
       "      <td>0.000118</td>\n",
       "      <td>12485691</td>\n",
       "      <td>0.376698</td>\n",
       "    </tr>\n",
       "    <tr>\n",
       "      <th>image/jpeg</th>\n",
       "      <th>image</th>\n",
       "      <th>jpeg</th>\n",
       "      <td>37</td>\n",
       "      <td>0.004370</td>\n",
       "      <td>1306337</td>\n",
       "      <td>0.039413</td>\n",
       "    </tr>\n",
       "    <tr>\n",
       "      <th>image/png</th>\n",
       "      <th>image</th>\n",
       "      <th>png</th>\n",
       "      <td>3</td>\n",
       "      <td>0.000354</td>\n",
       "      <td>995603</td>\n",
       "      <td>0.030038</td>\n",
       "    </tr>\n",
       "    <tr>\n",
       "      <th>text/html</th>\n",
       "      <th>text</th>\n",
       "      <th>html</th>\n",
       "      <td>21</td>\n",
       "      <td>0.002480</td>\n",
       "      <td>211343</td>\n",
       "      <td>0.006376</td>\n",
       "    </tr>\n",
       "    <tr>\n",
       "      <th>text/plain</th>\n",
       "      <th>text</th>\n",
       "      <th>plain</th>\n",
       "      <td>7887</td>\n",
       "      <td>0.931499</td>\n",
       "      <td>16395068</td>\n",
       "      <td>0.494645</td>\n",
       "    </tr>\n",
       "    <tr>\n",
       "      <th>text/x-c</th>\n",
       "      <th>text</th>\n",
       "      <th>x-c</th>\n",
       "      <td>1</td>\n",
       "      <td>0.000118</td>\n",
       "      <td>20339</td>\n",
       "      <td>0.000614</td>\n",
       "    </tr>\n",
       "    <tr>\n",
       "      <th>text/x-c++</th>\n",
       "      <th>text</th>\n",
       "      <th>x-c++</th>\n",
       "      <td>7</td>\n",
       "      <td>0.000827</td>\n",
       "      <td>212170</td>\n",
       "      <td>0.006401</td>\n",
       "    </tr>\n",
       "    <tr>\n",
       "      <th>text/x-fortran</th>\n",
       "      <th>text</th>\n",
       "      <th>x-fortran</th>\n",
       "      <td>27</td>\n",
       "      <td>0.003189</td>\n",
       "      <td>75091</td>\n",
       "      <td>0.002266</td>\n",
       "    </tr>\n",
       "  </tbody>\n",
       "</table>\n",
       "</div>"
      ],
      "text/plain": [
       "                                                                                                                   num_files  \\\n",
       "mimetype                                           mime1       mime2                                                           \n",
       "application/octet-stream                           application octet-stream                                              465   \n",
       "application/pdf                                    application pdf                                                        17   \n",
       "application/vnd.openxmlformats-officedocument.w... application vnd.openxmlformats-officedocument.wordprocessin...          1   \n",
       "application/zip                                    application zip                                                         1   \n",
       "image/jpeg                                         image       jpeg                                                       37   \n",
       "image/png                                          image       png                                                         3   \n",
       "text/html                                          text        html                                                       21   \n",
       "text/plain                                         text        plain                                                    7887   \n",
       "text/x-c                                           text        x-c                                                         1   \n",
       "text/x-c++                                         text        x-c++                                                       7   \n",
       "text/x-fortran                                     text        x-fortran                                                  27   \n",
       "\n",
       "                                                                                                                   perc_num_files  \\\n",
       "mimetype                                           mime1       mime2                                                                \n",
       "application/octet-stream                           application octet-stream                                              0.054919   \n",
       "application/pdf                                    application pdf                                                       0.002008   \n",
       "application/vnd.openxmlformats-officedocument.w... application vnd.openxmlformats-officedocument.wordprocessin...        0.000118   \n",
       "application/zip                                    application zip                                                       0.000118   \n",
       "image/jpeg                                         image       jpeg                                                      0.004370   \n",
       "image/png                                          image       png                                                       0.000354   \n",
       "text/html                                          text        html                                                      0.002480   \n",
       "text/plain                                         text        plain                                                     0.931499   \n",
       "text/x-c                                           text        x-c                                                       0.000118   \n",
       "text/x-c++                                         text        x-c++                                                     0.000827   \n",
       "text/x-fortran                                     text        x-fortran                                                 0.003189   \n",
       "\n",
       "                                                                                                                       size  \\\n",
       "mimetype                                           mime1       mime2                                                          \n",
       "application/octet-stream                           application octet-stream                                          139028   \n",
       "application/pdf                                    application pdf                                                  1286212   \n",
       "application/vnd.openxmlformats-officedocument.w... application vnd.openxmlformats-officedocument.wordprocessin...     18236   \n",
       "application/zip                                    application zip                                                 12485691   \n",
       "image/jpeg                                         image       jpeg                                                 1306337   \n",
       "image/png                                          image       png                                                   995603   \n",
       "text/html                                          text        html                                                  211343   \n",
       "text/plain                                         text        plain                                               16395068   \n",
       "text/x-c                                           text        x-c                                                    20339   \n",
       "text/x-c++                                         text        x-c++                                                 212170   \n",
       "text/x-fortran                                     text        x-fortran                                              75091   \n",
       "\n",
       "                                                                                                                   perc_size  \n",
       "mimetype                                           mime1       mime2                                                          \n",
       "application/octet-stream                           application octet-stream                                         0.004195  \n",
       "application/pdf                                    application pdf                                                  0.038805  \n",
       "application/vnd.openxmlformats-officedocument.w... application vnd.openxmlformats-officedocument.wordprocessin...   0.000550  \n",
       "application/zip                                    application zip                                                  0.376698  \n",
       "image/jpeg                                         image       jpeg                                                 0.039413  \n",
       "image/png                                          image       png                                                  0.030038  \n",
       "text/html                                          text        html                                                 0.006376  \n",
       "text/plain                                         text        plain                                                0.494645  \n",
       "text/x-c                                           text        x-c                                                  0.000614  \n",
       "text/x-c++                                         text        x-c++                                                0.006401  \n",
       "text/x-fortran                                     text        x-fortran                                            0.002266  "
      ]
     },
     "execution_count": 96,
     "metadata": {},
     "output_type": "execute_result"
    }
   ],
   "source": [
    "# Summarise by mimetype\n",
    "\n",
    "# Number of files\n",
    "summary_count_mime = allfiles_df[['filename', 'mimetype', 'mime1', 'mime2']].groupby(['mimetype', 'mime1', 'mime2']).count()\n",
    "filecount_total_mime = summary_count_mime.sum()\n",
    "summary_count_mime['perc_num_files'] = summary_count_mime['filename'] / float(filecount_total_mime)\n",
    "summary_count_mime.rename(columns={'filename': 'num_files'}, inplace=True)\n",
    "\n",
    "# File size\n",
    "summary_size_mime = allfiles_df[['size', 'mimetype', 'mime1', 'mime2']].groupby(['mimetype', 'mime1', 'mime2']).sum()\n",
    "size_total_mime = summary_size_mime.sum()\n",
    "summary_size_mime['perc_size'] = summary_size_mime['size'] / float(size_total_mime)\n",
    "\n",
    "# Merge num_files and size summaries together\n",
    "summary_mimetype = pd.merge(summary_count_mime, summary_size_mime, left_index=True, right_index=True)\n",
    "\n",
    "summary_mimetype"
   ]
  },
  {
   "cell_type": "code",
   "execution_count": 99,
   "metadata": {},
   "outputs": [
    {
     "name": "stdout",
     "output_type": "stream",
     "text": [
      "1.0000000000000002\n",
      "1.0000000000000002\n"
     ]
    }
   ],
   "source": [
    "# Check percentage calcs - should add up to 1\n",
    "\n",
    "print(summary_fileext.perc_num_files.sum())\n",
    "\n",
    "print(summary_mimetype.perc_size.sum())"
   ]
  },
  {
   "cell_type": "code",
   "execution_count": null,
   "metadata": {
    "collapsed": true
   },
   "outputs": [],
   "source": [
    "# Export\n",
    "\n",
    "# summary_count.to_csv('/opt/outputs/summary_count.csv')\n",
    "\n",
    "# summary_size.to_csv('/opt/outputs/summary_size.csv')\n",
    "\n",
    "summary_fileext.to_csv('/opt/outputs/summary_fileext.csv')\n",
    "\n",
    "summary_mimetype.to_csv('/opt/outputs/summary_mimetype.csv')"
   ]
  },
  {
   "cell_type": "code",
   "execution_count": null,
   "metadata": {
    "collapsed": true
   },
   "outputs": [],
   "source": []
  }
 ],
 "metadata": {
  "kernelspec": {
   "display_name": "Python 3",
   "language": "python",
   "name": "python3"
  },
  "language_info": {
   "codemirror_mode": {
    "name": "ipython",
    "version": 3
   },
   "file_extension": ".py",
   "mimetype": "text/x-python",
   "name": "python",
   "nbconvert_exporter": "python",
   "pygments_lexer": "ipython3",
   "version": "3.6.3"
  }
 },
 "nbformat": 4,
 "nbformat_minor": 2
}
